{
 "cells": [
  {
   "cell_type": "code",
   "execution_count": 70,
   "metadata": {},
   "outputs": [],
   "source": [
    "import pandas as pd\n",
    "import requests\n"
   ]
  },
  {
   "cell_type": "code",
   "execution_count": 71,
   "metadata": {},
   "outputs": [],
   "source": [
    "# API 1: Population data\n",
    "url_population = \"https://datausa.io/api/data?drilldowns=Nation&measures=Population\"\n",
    "get_population = requests.get(url_population)\n",
    "data_population = get_population.json()\n",
    "\n",
    "# API 2: Zip code data\n",
    "url_zipcode = \"https://api.zippopotam.us/us/40205\"\n",
    "get_zipcode = requests.get(url_zipcode)\n",
    "data_zipcode = get_zipcode.json()\n"
   ]
  },
  {
   "cell_type": "code",
   "execution_count": 72,
   "metadata": {},
   "outputs": [],
   "source": [
    "\n",
    "population_data = data_population['data']\n",
    "df_population = pd.DataFrame(population_data)\n",
    "\n",
    "\n",
    "zipcode_data = data_zipcode['places']\n",
    "df_zipcode = pd.DataFrame(zipcode_data)\n"
   ]
  },
  {
   "cell_type": "markdown",
   "metadata": {},
   "source": []
  },
  {
   "attachments": {},
   "cell_type": "markdown",
   "metadata": {},
   "source": [
    "\n",
    "population_mean = df_population['Population'].mean()\n",
    "population_max = df_population['Population'].max()\n",
    "\n",
    "zipcode_count = df_zipcode.shape[0]\n",
    "zipcode_unique_states = df_zipcode['state'].nunique()\n"
   ]
  }
 ],
 "metadata": {
  "kernelspec": {
   "display_name": "Python 3",
   "language": "python",
   "name": "python3"
  },
  "language_info": {
   "codemirror_mode": {
    "name": "ipython",
    "version": 3
   },
   "file_extension": ".py",
   "mimetype": "text/x-python",
   "name": "python",
   "nbconvert_exporter": "python",
   "pygments_lexer": "ipython3",
   "version": "3.9.13"
  },
  "orig_nbformat": 4
 },
 "nbformat": 4,
 "nbformat_minor": 2
}
