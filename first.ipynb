{
 "cells": [
  {
   "cell_type": "code",
   "execution_count": 12,
   "metadata": {},
   "outputs": [],
   "source": [
    "import pandas as pd\n",
    "import requests\n"
   ]
  },
  {
   "cell_type": "markdown",
   "metadata": {},
   "source": []
  },
  {
   "cell_type": "code",
   "execution_count": 13,
   "metadata": {},
   "outputs": [],
   "source": [
    "\n",
    "url_population = \"https://datausa.io/api/data?drilldowns=Nation&measures=Population\"\n",
    "get_population = requests.get(url_population)\n",
    "data_population = get_population.json()\n",
    "\n",
    "\n",
    "url_zipcode = \"https://api.zippopotam.us/us/40205\"\n",
    "get_zipcode = requests.get(url_zipcode)\n",
    "data_zipcode = get_zipcode.json()"
   ]
  },
  {
   "cell_type": "code",
   "execution_count": 14,
   "metadata": {},
   "outputs": [],
   "source": [
    "\n",
    "population_data = data_population['data']\n",
    "df_population = pd.DataFrame(population_data)\n",
    "\n",
    "\n",
    "zipcode_data = data_zipcode['places']\n",
    "df_zipcode = pd.DataFrame(zipcode_data)\n"
   ]
  },
  {
   "cell_type": "code",
   "execution_count": 15,
   "metadata": {},
   "outputs": [],
   "source": [
    "\n",
    "kentucky_data = df_zipcode[df_zipcode['state'] == 'Kentucky']\n"
   ]
  },
  {
   "cell_type": "code",
   "execution_count": 16,
   "metadata": {},
   "outputs": [
    {
     "name": "stdout",
     "output_type": "stream",
     "text": [
      "          Nation  ID Year\n",
      "0  United States     2020\n",
      "1  United States     2019\n",
      "2  United States     2018\n",
      "3  United States     2017\n",
      "4  United States     2016\n",
      "5  United States     2015\n",
      "6  United States     2014\n",
      "7  United States     2013\n",
      "  ID Nation         Nation  ID Year  Year  Population    Slug Nation\n",
      "0   01000US  United States     2020  2020   326569308  united-states\n",
      "1   01000US  United States     2019  2019   324697795  united-states\n",
      "2   01000US  United States     2018  2018   322903030  united-states\n",
      "3   01000US  United States     2017  2017   321004407  united-states\n"
     ]
    }
   ],
   "source": [
    "\n",
    "selected_columns = df_population.iloc[:, 1:3]\n",
    "print(selected_columns)\n",
    "\n",
    "selected_rows = df_population.head(4)\n",
    "print(selected_rows)\n"
   ]
  }
 ],
 "metadata": {
  "kernelspec": {
   "display_name": "Python 3",
   "language": "python",
   "name": "python3"
  },
  "language_info": {
   "codemirror_mode": {
    "name": "ipython",
    "version": 3
   },
   "file_extension": ".py",
   "mimetype": "text/x-python",
   "name": "python",
   "nbconvert_exporter": "python",
   "pygments_lexer": "ipython3",
   "version": "3.9.13"
  },
  "orig_nbformat": 4
 },
 "nbformat": 4,
 "nbformat_minor": 2
}
